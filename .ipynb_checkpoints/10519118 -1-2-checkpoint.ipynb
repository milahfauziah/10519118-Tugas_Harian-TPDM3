{
 "cells": [
  {
   "cell_type": "code",
   "execution_count": 1,
   "metadata": {},
   "outputs": [
    {
     "name": "stdout",
     "output_type": "stream",
     "text": [
      "13\n"
     ]
    }
   ],
   "source": [
    "x=5\n",
    "y=8\n",
    "z=x+y\n",
    "print(z)"
   ]
  },
  {
   "cell_type": "code",
   "execution_count": 2,
   "metadata": {},
   "outputs": [
    {
     "name": "stdout",
     "output_type": "stream",
     "text": [
      "12\n",
      "2\n",
      "14\n"
     ]
    }
   ],
   "source": [
    "x=int(input())\n",
    "y=int(input())\n",
    "z=x+y\n",
    "print(z)"
   ]
  },
  {
   "cell_type": "code",
   "execution_count": 3,
   "metadata": {},
   "outputs": [
    {
     "name": "stdout",
     "output_type": "stream",
     "text": [
      "23\n",
      "11\n",
      "2311\n"
     ]
    }
   ],
   "source": [
    "x=str(input())\n",
    "y=str(input())\n",
    "z=x+y\n",
    "print(z)"
   ]
  },
  {
   "cell_type": "code",
   "execution_count": 4,
   "metadata": {},
   "outputs": [
    {
     "name": "stdout",
     "output_type": "stream",
     "text": [
      "Milah\n",
      "Sumedang\n",
      "6\n",
      "MilahSumedang\n",
      "6\n"
     ]
    }
   ],
   "source": [
    "nama=str(input())\n",
    "alamat=str(input())\n",
    "nilai=int(input())\n",
    "hasil=nama + alamat\n",
    "hasil2=nilai\n",
    "print (hasil)\n",
    "print (hasil2)"
   ]
  },
  {
   "cell_type": "code",
   "execution_count": 5,
   "metadata": {},
   "outputs": [
    {
     "name": "stdout",
     "output_type": "stream",
     "text": [
      "Milah\n",
      "Sumedang\n",
      "90\n",
      "Nama Milah\n",
      "Alamat Sumedang\n",
      "Nilai 90\n"
     ]
    }
   ],
   "source": [
    "nama=str(input())\n",
    "alamat=str(input())\n",
    "nilai=int(input())\n",
    "\n",
    "print('Nama',nama)\n",
    "print('Alamat',alamat)\n",
    "print('Nilai',nilai)"
   ]
  },
  {
   "cell_type": "code",
   "execution_count": 6,
   "metadata": {},
   "outputs": [
    {
     "name": "stdout",
     "output_type": "stream",
     "text": [
      "0\n",
      "1\n",
      "2\n",
      "3\n",
      "4\n",
      "5\n",
      "6\n",
      "7\n",
      "8\n",
      "9\n"
     ]
    }
   ],
   "source": [
    "for x in range(10):\n",
    "    print (x)"
   ]
  },
  {
   "cell_type": "code",
   "execution_count": 7,
   "metadata": {},
   "outputs": [
    {
     "data": {
      "text/plain": [
       "'pandi'"
      ]
     },
     "execution_count": 7,
     "metadata": {},
     "output_type": "execute_result"
    }
   ],
   "source": [
    "xlist = ['adi','budi','pandi'] # Output hanya keluar 1 yaitu xlist 2 dikarenakan paling terakhir\n",
    "xlist[0]\n",
    "xlist[1]\n",
    "xlist[2]"
   ]
  },
  {
   "cell_type": "code",
   "execution_count": 8,
   "metadata": {},
   "outputs": [
    {
     "name": "stdout",
     "output_type": "stream",
     "text": [
      "adi\n",
      "budi\n",
      "pandi\n"
     ]
    }
   ],
   "source": [
    "xlist = ['adi','budi','pandi'] # Output Muncul Semua\n",
    "print(xlist[0])\n",
    "print(xlist[1])\n",
    "print(xlist[2])"
   ]
  },
  {
   "cell_type": "markdown",
   "metadata": {},
   "source": [
    "Buatlah program untuk pengkondisian sebagai berikut :\n",
    "-Jika nilai lebih besar dari 80 maka predikat A\n",
    "-Jika nilai lebih besar dari 70 maka predikat B\n",
    "-Jika nilai lebih besar dari 60 maka predikat C\n",
    "-Jika nilai lebih besar dari 50 maka predikat D\n",
    "-Jika nilai lebih besar dari 40 maka predikat E"
   ]
  },
  {
   "cell_type": "code",
   "execution_count": 9,
   "metadata": {},
   "outputs": [
    {
     "name": "stdout",
     "output_type": "stream",
     "text": [
      "Masukkan nilai = 80\n",
      "predikat A\n"
     ]
    }
   ],
   "source": [
    "nilai = int(input('Masukkan nilai = ' )) # pengkondisian \n",
    "if nilai >= 80:\n",
    "    print('predikat A')\n",
    "elif nilai >= 70:\n",
    "    print ('predikat B')\n",
    "elif nilai >= 60:\n",
    "    print ('predikat C')\n",
    "elif nilai >= 50:\n",
    "    print ('predikat D')\n",
    "else:\n",
    "    print ('predikat E')"
   ]
  },
  {
   "cell_type": "code",
   "execution_count": 10,
   "metadata": {},
   "outputs": [
    {
     "name": "stdout",
     "output_type": "stream",
     "text": [
      "adi\n",
      "budi\n",
      "pandi\n"
     ]
    }
   ],
   "source": [
    "xlist = ['adi','budi','pandi']\n",
    "for i in xlist:\n",
    "    print(i)"
   ]
  },
  {
   "cell_type": "code",
   "execution_count": 11,
   "metadata": {},
   "outputs": [
    {
     "name": "stdout",
     "output_type": "stream",
     "text": [
      "adi\n",
      "budi\n",
      "pandi\n"
     ]
    }
   ],
   "source": [
    "j = 0\n",
    "while j <= 2:\n",
    "    print (xlist[j])\n",
    "    j = j + 1"
   ]
  },
  {
   "cell_type": "code",
   "execution_count": 12,
   "metadata": {},
   "outputs": [
    {
     "data": {
      "text/plain": [
       "[1, 2, 3, 4]"
      ]
     },
     "execution_count": 12,
     "metadata": {},
     "output_type": "execute_result"
    }
   ],
   "source": [
    "d = [1, 2, 3, 4]\n",
    "\n",
    "d"
   ]
  },
  {
   "cell_type": "code",
   "execution_count": 13,
   "metadata": {},
   "outputs": [
    {
     "data": {
      "text/plain": [
       "[1, 2, 3, 4, 5, 6, 2, 1]"
      ]
     },
     "execution_count": 13,
     "metadata": {},
     "output_type": "execute_result"
    }
   ],
   "source": [
    "d = [1, 2, 3, 4]\n",
    "f = [5, 6, 2, 1]\n",
    "\n",
    "e = d + f\n",
    "e"
   ]
  },
  {
   "cell_type": "code",
   "execution_count": 14,
   "metadata": {},
   "outputs": [
    {
     "data": {
      "text/plain": [
       "2"
      ]
     },
     "execution_count": 14,
     "metadata": {},
     "output_type": "execute_result"
    }
   ],
   "source": [
    "d = [(1, 2, 3, 4),\n",
    "     (5, 6, 2, 1)]\n",
    "d[0][1]"
   ]
  },
  {
   "cell_type": "code",
   "execution_count": 15,
   "metadata": {},
   "outputs": [
    {
     "data": {
      "text/plain": [
       "(1, 2, 3, 4, 1, 2, 3, 4)"
      ]
     },
     "execution_count": 15,
     "metadata": {},
     "output_type": "execute_result"
    }
   ],
   "source": [
    "d = [(1, 2, 3, 4),\n",
    "     (5, 6, 2, 1)]\n",
    "f = [(1, 2, 3, 4),\n",
    "     (5, 6, 2, 1)]\n",
    "\n",
    "g = d[0] +f[0]\n",
    "g\n",
    "        "
   ]
  },
  {
   "cell_type": "code",
   "execution_count": null,
   "metadata": {},
   "outputs": [],
   "source": [
    "!pip list"
   ]
  },
  {
   "cell_type": "code",
   "execution_count": null,
   "metadata": {},
   "outputs": [],
   "source": [
    "import pandas as pd\n",
    "d = pd.DataFrame (d)\n",
    "d"
   ]
  },
  {
   "cell_type": "code",
   "execution_count": null,
   "metadata": {},
   "outputs": [],
   "source": [
    "for i in d[3]:\n",
    "    print(i)"
   ]
  },
  {
   "cell_type": "code",
   "execution_count": null,
   "metadata": {},
   "outputs": [],
   "source": [
    "d = {'Kolom A': [1, 2], 'Kolom B': [3, 4]}\n",
    "df = pd.DataFrame(data=d)\n",
    "df"
   ]
  },
  {
   "cell_type": "code",
   "execution_count": null,
   "metadata": {},
   "outputs": [],
   "source": [
    "d = {'A': [0, 1, 2, 3], 'B': pd.Series([1, 2, 3, 4], index=[0, 1, 2, 3])}\n",
    "df = pd.DataFrame(data=d, index=[0, 1, 2, 3])\n",
    "df"
   ]
  },
  {
   "cell_type": "code",
   "execution_count": null,
   "metadata": {},
   "outputs": [],
   "source": [
    "df['B'].iloc[2]"
   ]
  },
  {
   "cell_type": "code",
   "execution_count": null,
   "metadata": {},
   "outputs": [],
   "source": [
    "d = {'A': [0, 1, 2, 3, 4, 5, 6], 'B': pd.Series([1, 2, 3, 4, 5, 6, 7], index=[0, 1, 2, 3, 4, 5, 6])}\n",
    "df = pd.DataFrame(data=d, index=[0, 1, 2, 3, 4, 5, 6])\n",
    "df"
   ]
  },
  {
   "cell_type": "code",
   "execution_count": null,
   "metadata": {},
   "outputs": [],
   "source": [
    "c = df['B'].iloc[0] + df['A'].iloc[0]\n",
    "d = df['B'].iloc[1] + df['A'].iloc[1]\n",
    "e = df['B'].iloc[2] + df['A'].iloc[2]\n",
    "f = df['B'].iloc[3] + df['A'].iloc[3]\n",
    "g = df['B'].iloc[4] + df['A'].iloc[4]\n",
    "h = df['B'].iloc[5] + df['A'].iloc[5]\n",
    "i = df['B'].iloc[6] + df['A'].iloc[6]\n",
    "\n",
    "c,d,e,f,g,h,i"
   ]
  },
  {
   "cell_type": "code",
   "execution_count": null,
   "metadata": {},
   "outputs": [],
   "source": []
  }
 ],
 "metadata": {
  "kernelspec": {
   "display_name": "Python 3 (ipykernel)",
   "language": "python",
   "name": "python3"
  },
  "language_info": {
   "codemirror_mode": {
    "name": "ipython",
    "version": 3
   },
   "file_extension": ".py",
   "mimetype": "text/x-python",
   "name": "python",
   "nbconvert_exporter": "python",
   "pygments_lexer": "ipython3",
   "version": "3.9.12"
  }
 },
 "nbformat": 4,
 "nbformat_minor": 2
}
